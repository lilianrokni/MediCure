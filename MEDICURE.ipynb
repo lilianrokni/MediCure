{
 "cells": [
  {
   "cell_type": "code",
   "execution_count": null,
   "id": "d0fe5480",
   "metadata": {},
   "outputs": [],
   "source": [
    "pip install py_edamam"
   ]
  },
  {
   "cell_type": "code",
   "execution_count": null,
   "id": "ade16b8f",
   "metadata": {},
   "outputs": [],
   "source": [
    "pip install flask"
   ]
  },
  {
   "cell_type": "code",
   "execution_count": null,
   "id": "3f226d54",
   "metadata": {},
   "outputs": [],
   "source": [
    "from IPython.display import display\n",
    "from IPython.display import HTML\n",
    "from IPython.display import IFrame\n",
    "from IPython.display import FileLinks\n",
    "from IPython.core.display import Javascript"
   ]
  },
  {
   "cell_type": "code",
   "execution_count": null,
   "id": "615ac528",
   "metadata": {},
   "outputs": [],
   "source": [
    "import requests\n",
    "import pandas as pd\n",
    "import pandas.io.json as json_normalize\n",
    "from ipywidgets import widgets\n",
    "from py_edamam import PyEdamam"
   ]
  },
  {
   "cell_type": "code",
   "execution_count": null,
   "id": "05b49655",
   "metadata": {},
   "outputs": [],
   "source": [
    "HTML(\"<script src='main.js'></script> <link rel='stylesheet' type='text/css' href='index.html'>\")"
   ]
  },
  {
   "cell_type": "code",
   "execution_count": null,
   "id": "5cd4a36e",
   "metadata": {},
   "outputs": [],
   "source": [
    "%%javascript\n",
    "require([\"main.js\"])"
   ]
  },
  {
   "cell_type": "code",
   "execution_count": null,
   "id": "fffab6cb",
   "metadata": {},
   "outputs": [],
   "source": [
    "dietLabels = [\"balanced\",\"high-fiber\",\"high-protein\",\"low-carb\",\"low-fat\",\"low-sodium\"]\n",
    "\n",
    "healthLabels = [\"dairy-free\",\"egg-free\",\"fish-free\",\"gluten-free\",\"immuno-supportive\",\n",
    "\"keto-friendly\",\"kidney-friendly\",\"kosher\",\"low-potassium\",\"low-sugar\",\"no-oil-added\",\n",
    "\"paleo\",\"peanut-free\",\"pescatarian\",\"pork-free\",\"red-meat-free\",\"shellfish-free\",\n",
    "\"soy-free\",\"tree-nut-free\",\"vegan\",\"vegetarian\",\"wheat-free\"]\n",
    "\n",
    "cuisineType = [\"American\", \"Asian\", \"Caribbean\", \"Central Europe\", \"Chinese\", \n",
    "\"Eastern Europe\", \"French\", \"Indian\", \"Italian\", \"Japanese\", \"Kosher\", \"Mediterranean\", \n",
    "\"Mexican\", \"Middle Eastern\", \"Nordic\", \"South American\", \"South East Asian\"]\n"
   ]
  },
  {
   "cell_type": "code",
   "execution_count": null,
   "id": "252faaf5",
   "metadata": {},
   "outputs": [],
   "source": [
    "dietSelection = widgets.SelectMultiple(\n",
    "    options=dietLabels,\n",
    "    value=['balanced'],\n",
    "    #rows=10,\n",
    "    description='Diet Labels - *Select multiple labels by holding shift and left-clicking all the labels needed',\n",
    "    disabled=False\n",
    ")\n",
    "\n",
    "healthSelection = widgets.SelectMultiple(\n",
    "    options=healthLabels,\n",
    "    value=['dairy-free'],\n",
    "    #rows=10,\n",
    "    description='Health Label',\n",
    "    disabled=False\n",
    ")\n",
    "\n",
    "cuisineSelection = widgets.SelectMultiple(\n",
    "    options=cuisineType,\n",
    "    value=['American'],\n",
    "    #rows=10,\n",
    "    description='Cuisine Type',\n",
    "    disabled=False\n",
    ") \n",
    "\n",
    "display(dietSelection)\n",
    "display(healthSelection)\n",
    "display(cuisineSelection)"
   ]
  },
  {
   "cell_type": "code",
   "execution_count": null,
   "id": "775feb2e",
   "metadata": {},
   "outputs": [],
   "source": [
    "dietSelection1 = dietSelection.value\n",
    "dietSelectionValue = ' '.join(dietSelection1)\n",
    "dietSelectionValue = dietSelectionValue.replace(\"'\", \"\")\n",
    "\n",
    "healthSelection1 = healthSelection.value \n",
    "healthSelectionValue = ' '.join(healthSelection1)\n",
    "healthSelectionValue = healthSelectionValue.replace(\"'\", \"\")\n",
    "    \n",
    "cuisineSelection1 = cuisineSelection.value \n",
    "cuisineSelectionValue = ' '.join(cuisineSelection1)\n",
    "cuisineSelectionValue = cuisineSelectionValue.replace(\"'\", \"\")\n",
    "\n",
    "#print(dietSelectionValue)\n",
    "#print(healthSelectionValue)\n",
    "#print(cuisineSelectionValue)"
   ]
  },
  {
   "cell_type": "code",
   "execution_count": null,
   "id": "9210ed4e",
   "metadata": {},
   "outputs": [],
   "source": [
    "# Create a text field for specific ingredient restriction\n",
    "ingredient_restriction_text = widgets.Text(\n",
    "    value='',\n",
    "    placeholder='Enter specific ingredient restriction',\n",
    "    description='Ingredient Restriction:',\n",
    "    disabled=False\n",
    ")\n",
    "\n",
    "display(ingredient_restriction_text)"
   ]
  },
  {
   "cell_type": "code",
   "execution_count": null,
   "id": "c82175f3",
   "metadata": {},
   "outputs": [],
   "source": [
    "excluded = ingredient_restriction_text.value\n",
    "    #print(excluded)\n",
    "excluded_list = excluded.split(\",\")\n",
    "    #print(excluded_list)\n",
    "      \n",
    "if len(excluded_list) >= 1:\n",
    "    excluded = excluded_list[0]\n",
    "    excluded = excluded.strip()\n",
    "else: \n",
    "    excluded = ''\n",
    "if len(excluded_list) >= 2:\n",
    "    excluded1 = excluded_list[1]\n",
    "    excluded1 = excluded1.strip()\n",
    "else: \n",
    "    excluded1 = ''\n",
    "if len(excluded_list) >= 3:\n",
    "    excluded2 = excluded_list[2]\n",
    "    excluded2 = excluded2.strip()\n",
    "else: \n",
    "    excluded2 = ''\n",
    "    "
   ]
  },
  {
   "cell_type": "code",
   "execution_count": null,
   "id": "136648fc",
   "metadata": {},
   "outputs": [],
   "source": [
    "#API Request Parameters\n",
    "\n",
    "edamam_id = \"5f36f0d2\"\n",
    "edamam_key = \"36183fb32a466e53e994a472a4934d20\"\n",
    "\n",
    "base_url = \"https://api.edamam.com\"\n",
    "recipes_path = \"/api/recipes/v2\"\n",
    "qType = \"public\"\n",
    "query = \"chicken\""
   ]
  },
  {
   "cell_type": "code",
   "execution_count": null,
   "id": "d63d5433",
   "metadata": {},
   "outputs": [],
   "source": [
    "def myFunction(dietSelectionValue, healthSelectionValue, cuisineSelectionValue):\n",
    "    base_url = \"https://api.edamam.com\"\n",
    "    recipes_path = \"/api/recipes/v2\"\n",
    "    edamam_id = \"5f36f0d2\"\n",
    "    edamam_key = \"36183fb32a466e53e994a472a4934d20\"\n",
    "    qType = \"public\"\n",
    "    url = f\"{base_url}{recipes_path}?type={qType}&app_id={edamam_id}&app_key={edamam_key}&diet={dietSelectionValue}&health={healthSelectionValue}&cuisineType={cuisineSelectionValue}\"\n",
    "    response = requests.get(url)\n",
    "    data = response.json()\n",
    "    hits = data['hits']\n",
    "    filtered_hits = [{'label': hit['recipe']['label'],\n",
    "                  'dietLabels': hit['recipe']['dietLabels'],\n",
    "                  'healthLabels': hit['recipe']['healthLabels'],\n",
    "                  'ingredients': [{'food': ingredient['food'], 'quantity': ingredient['quantity']} for ingredient in hit['recipe']['ingredients']],\n",
    "                  'calories': hit['recipe']['calories'],\n",
    "                  'cuisineType': hit['recipe']['cuisineType']\n",
    "                  } for hit in hits]\n",
    "    recipeDisplay = filtered_hits[1:5]\n",
    "    display(recipeDisplay)"
   ]
  },
  {
   "cell_type": "code",
   "execution_count": null,
   "id": "94fde9ae",
   "metadata": {
    "scrolled": true
   },
   "outputs": [],
   "source": [
    "myFunction(dietSelectionValue, healthSelectionValue, cuisineSelectionValue)"
   ]
  },
  {
   "cell_type": "code",
   "execution_count": null,
   "id": "fd01f2ab",
   "metadata": {},
   "outputs": [],
   "source": [
    "%%javascript\n",
    "data = display(data)\n",
    "myFunction(data);\n",
    "\n",
    "%%javascript\n",
    "document.getElementById(\"output\").innerHTML = JSON.stringify(data);"
   ]
  },
  {
   "cell_type": "code",
   "execution_count": null,
   "id": "9c1bff8e",
   "metadata": {},
   "outputs": [],
   "source": [
    "url = f\"{base_url}{recipes_path}?type={qType}&app_id={edamam_id}&app_key={edamam_key}&diet={dietSelectionValue}&health={healthSelectionValue}&cuisineType={cuisineSelectionValue}\"\n",
    "response = requests.get(url)\n",
    "data = response.json()"
   ]
  },
  {
   "cell_type": "code",
   "execution_count": null,
   "id": "79d2e14f",
   "metadata": {
    "scrolled": true
   },
   "outputs": [],
   "source": [
    "hits = data['hits']"
   ]
  },
  {
   "cell_type": "code",
   "execution_count": null,
   "id": "7ce5ceb9",
   "metadata": {},
   "outputs": [],
   "source": [
    "#NUTRITION CONSTRAINTS \n",
    "\n",
    "# Create a dropdown menu for gender\n",
    "gender_dropdown = widgets.Dropdown(\n",
    "    options=['M', 'F'],\n",
    "    value='M',\n",
    "    description='Gender:',\n",
    "    disabled=False,\n",
    ")\n",
    "\n",
    "# Create a dropdown menu for activity level\n",
    "activity_level_dropdown = widgets.Dropdown(\n",
    "    options=['Sedentary', 'Light', 'Moderate', 'Active', 'Very Active'],\n",
    "    value='Sedentary',\n",
    "    description='Activity Level:',\n",
    "    disabled=False,\n",
    ")\n",
    "\n",
    "# Create a dropdown menu for body type\n",
    "body_type_dropdown = widgets.Dropdown(\n",
    "    options=['Ectomorph', 'Mesomorph', 'Endomorph'],\n",
    "    value='Ectomorph',\n",
    "    description='Body Type:',\n",
    "    disabled=False,\n",
    ")\n",
    "\n",
    "# Create a dropdown menu for goal\n",
    "goal_dropdown = widgets.Dropdown(\n",
    "    options=['Lose', 'Maintain', 'Gain'],\n",
    "    value='Maintain',\n",
    "    description='Goal:',\n",
    "    disabled=False,\n",
    ")\n",
    "\n",
    "height = float(input(\"Enter your height in inches: \"))\n",
    "weight = float(input(\"Enter your weight in pounds: \"))\n",
    "age = float(input(\"Enter your age in years: \"))\n",
    "\n",
    "\n",
    "# Display the dropdown menu and text fields\n",
    "display(gender_dropdown)\n",
    "display(activity_level_dropdown)\n",
    "display(body_type_dropdown)\n",
    "display(goal_dropdown)"
   ]
  },
  {
   "cell_type": "code",
   "execution_count": null,
   "id": "f71cdc8c",
   "metadata": {},
   "outputs": [],
   "source": [
    "gender = gender_dropdown.value\n",
    "age = int(age)\n",
    "activity_level = activity_level_dropdown.value\n",
    "body_type = body_type_dropdown.value\n",
    "goal = goal_dropdown.value\n",
    "\n",
    "if gender.upper() == \"M\":\n",
    "    # Harris-Benedict equation for men\n",
    "    bmr = 88.362 + (13.397 * weight) + (4.799 * height) - (5.677 * age)\n",
    "elif gender.upper() == \"F\":\n",
    "    # Harris-Benedict equation for women\n",
    "    bmr = 447.593 + (9.247 * weight) + (3.098 * height) - (4.330 * age)\n",
    "else:\n",
    "    print(\"Invalid input for gender\")\n",
    "\n",
    "# Use the BMR to calculate macro needs\n",
    "\n",
    "if activity_level == \"Sedentary\":\n",
    "    bmr *= 1.2\n",
    "elif activity_level == \"Light\":\n",
    "    bmr *= 1.375\n",
    "elif activity_level == \"Moderate\":\n",
    "    bmr *= 1.55\n",
    "elif activity_level == \"Active\":\n",
    "    bmr *= 1.725\n",
    "else:\n",
    "    print(\"Invalid input for activity level\")\n",
    "\n",
    "# Adjust the calories based on the user's goal\n",
    "if goal == \"Lose\":\n",
    "    bmr -= 250\n",
    "elif goal == \"Gain\":\n",
    "    bmr += 250\n",
    "else:\n",
    "    pass\n",
    "\n",
    "# Calculate macro needs based on the adjusted calories\n",
    "carbohydrates = bmr * 0.45 / 4\n",
    "fats = bmr * 0.25 / 9\n",
    "proteins = bmr * 0.3 / 4\n",
    "\n",
    "# Print the macro and calorie needs\n",
    "print(\"Calories: \",bmr)\n",
    "print(\"Carbohydrates: \",carbohydrates)\n",
    "print(\"Fats: \",fats)\n",
    "print(\"Proteins: \",proteins)\n"
   ]
  }
 ],
 "metadata": {
  "kernelspec": {
   "display_name": "Python 3 (ipykernel)",
   "language": "python",
   "name": "python3"
  },
  "language_info": {
   "codemirror_mode": {
    "name": "ipython",
    "version": 3
   },
   "file_extension": ".py",
   "mimetype": "text/x-python",
   "name": "python",
   "nbconvert_exporter": "python",
   "pygments_lexer": "ipython3",
   "version": "3.9.12"
  }
 },
 "nbformat": 4,
 "nbformat_minor": 5
}
