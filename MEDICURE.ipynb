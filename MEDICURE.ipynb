{
 "cells": [
  {
   "cell_type": "code",
   "execution_count": 81,
   "id": "c6f17895",
   "metadata": {},
   "outputs": [
    {
     "name": "stdout",
     "output_type": "stream",
     "text": [
      "Requirement already satisfied: py_edamam in /Users/michellecai/opt/anaconda3/lib/python3.9/site-packages (0.2)\n",
      "Note: you may need to restart the kernel to use updated packages.\n"
     ]
    }
   ],
   "source": [
    "pip install py_edamam"
   ]
  },
  {
   "cell_type": "code",
   "execution_count": 179,
   "id": "5822b0e1",
   "metadata": {},
   "outputs": [
    {
     "name": "stdout",
     "output_type": "stream",
     "text": [
      "Requirement already satisfied: flask in /Users/michellecai/opt/anaconda3/lib/python3.9/site-packages (1.1.2)\n",
      "Requirement already satisfied: Jinja2>=2.10.1 in /Users/michellecai/opt/anaconda3/lib/python3.9/site-packages (from flask) (2.11.3)\n",
      "Requirement already satisfied: itsdangerous>=0.24 in /Users/michellecai/opt/anaconda3/lib/python3.9/site-packages (from flask) (2.0.1)\n",
      "Requirement already satisfied: Werkzeug>=0.15 in /Users/michellecai/opt/anaconda3/lib/python3.9/site-packages (from flask) (2.0.3)\n",
      "Requirement already satisfied: click>=5.1 in /Users/michellecai/opt/anaconda3/lib/python3.9/site-packages (from flask) (8.1.3)\n",
      "Requirement already satisfied: MarkupSafe>=0.23 in /Users/michellecai/opt/anaconda3/lib/python3.9/site-packages (from Jinja2>=2.10.1->flask) (2.0.1)\n",
      "Note: you may need to restart the kernel to use updated packages.\n"
     ]
    }
   ],
   "source": [
    "pip install flask"
   ]
  },
  {
   "cell_type": "code",
   "execution_count": 121,
   "id": "e839c766",
   "metadata": {},
   "outputs": [],
   "source": [
    "from IPython.display import display\n",
    "from IPython.display import HTML\n",
    "from IPython.display import IFrame\n",
    "from IPython.display import FileLinks\n",
    "from IPython.core.display import Javascript"
   ]
  },
  {
   "cell_type": "code",
   "execution_count": 122,
   "id": "615ac528",
   "metadata": {},
   "outputs": [],
   "source": [
    "import requests\n",
    "import pandas as pd\n",
    "import pandas.io.json as json_normalize\n",
    "from ipywidgets import widgets\n",
    "from py_edamam import PyEdamam"
   ]
  },
  {
   "cell_type": "code",
   "execution_count": 261,
   "id": "c905d72e",
   "metadata": {},
   "outputs": [
    {
     "data": {
      "text/html": [
       "<script src='main.js'></script> <link rel='stylesheet' type='text/css' href='index.html'>"
      ],
      "text/plain": [
       "<IPython.core.display.HTML object>"
      ]
     },
     "execution_count": 261,
     "metadata": {},
     "output_type": "execute_result"
    }
   ],
   "source": [
    "HTML(\"<script src='main.js'></script> <link rel='stylesheet' type='text/css' href='index.html'>\")"
   ]
  },
  {
   "cell_type": "code",
   "execution_count": 123,
   "id": "030eb333",
   "metadata": {},
   "outputs": [
    {
     "data": {
      "application/javascript": [
       "require([\"main.js\"])\n"
      ],
      "text/plain": [
       "<IPython.core.display.Javascript object>"
      ]
     },
     "metadata": {},
     "output_type": "display_data"
    }
   ],
   "source": [
    "%%javascript\n",
    "require([\"main.js\"])"
   ]
  },
  {
   "cell_type": "code",
   "execution_count": 100,
   "id": "d92535de",
   "metadata": {},
   "outputs": [],
   "source": [
    "edamam_id = \"5f36f0d2\"\n",
    "edamam_key = \"36183fb32a466e53e994a472a4934d20\"\n",
    "\n",
    "e= PyEdamam(nutrition_appid=edamam_id, nutrition_appkey=edamam_key)\n",
    "\n",
    "base_url = \"https://api.edamam.com\"\n",
    "recipes_path = \"/api/recipes/v2\"\n",
    "qType = \"public\"\n",
    "query = \"chicken\""
   ]
  },
  {
   "cell_type": "code",
   "execution_count": 36,
   "id": "8c42d76e",
   "metadata": {},
   "outputs": [],
   "source": [
    "url = f\"{base_url}{recipes_path}?type={qType}&q={query}&app_id={edamam_id}&app_key={edamam_key}\"\n",
    "\n",
    "response = requests.get(url)\n",
    "\n",
    "data = response.json()"
   ]
  },
  {
   "cell_type": "code",
   "execution_count": 93,
   "id": "fffab6cb",
   "metadata": {},
   "outputs": [],
   "source": [
    "dietLabels = [\"balanced\",\"high-fiber\",\"high-protein\",\"low-carb\",\"low-fat\",\"low-sodium\"]\n",
    "\n",
    "healthLabels = [\"dairy-free\",\"egg-free\",\"fish-free\",\"gluten-free\",\"immuno-supportive\",\n",
    "\"keto-friendly\",\"kidney-friendly\",\"kosher\",\"low-potassium\",\"low-sugar\",\"no-oil-added\",\n",
    "\"paleo\",\"peanut-free\",\"pescatarian\",\"pork-free\",\"red-meat-free\",\"shellfish-free\",\n",
    "\"soy-free\",\"tree-nut-free\",\"vegan\",\"vegetarian\",\"wheat-free\"]\n",
    "\n",
    "cuisineType = [\"American\", \"Asian\", \"Caribbean\", \"Central Europe\", \"Chinese\", \n",
    "\"Eastern Europe\", \"French\", \"Indian\", \"Italian\", \"Japanese\", \"Kosher\", \"Mediterranean\", \n",
    "\"Mexican\", \"Middle Eastern\", \"Nordic\", \"South American\", \"South East Asian\"]\n"
   ]
  },
  {
   "cell_type": "code",
   "execution_count": 94,
   "id": "252faaf5",
   "metadata": {},
   "outputs": [
    {
     "data": {
      "application/vnd.jupyter.widget-view+json": {
       "model_id": "5d84d01d060f487190c7841e1f20fbae",
       "version_major": 2,
       "version_minor": 0
      },
      "text/plain": [
       "SelectMultiple(description='Diet Labels - *Select multiple labels by holding shift and left-clicking all the l…"
      ]
     },
     "metadata": {},
     "output_type": "display_data"
    },
    {
     "data": {
      "application/vnd.jupyter.widget-view+json": {
       "model_id": "71937df9b0fa45a9b8d0430db45734c9",
       "version_major": 2,
       "version_minor": 0
      },
      "text/plain": [
       "SelectMultiple(description='Health Label', index=(0,), options=('dairy-free', 'egg-free', 'fish-free', 'gluten…"
      ]
     },
     "metadata": {},
     "output_type": "display_data"
    },
    {
     "data": {
      "application/vnd.jupyter.widget-view+json": {
       "model_id": "b9bd14af941d4df3882fcde90729fe9a",
       "version_major": 2,
       "version_minor": 0
      },
      "text/plain": [
       "SelectMultiple(description='Cuisine Type', index=(0,), options=('American', 'Asian', 'Caribbean', 'Central Eur…"
      ]
     },
     "metadata": {},
     "output_type": "display_data"
    }
   ],
   "source": [
    "dietSelection = widgets.SelectMultiple(\n",
    "    options=dietLabels,\n",
    "    value=['balanced'],\n",
    "    #rows=10,\n",
    "    description='Diet Labels - *Select multiple labels by holding shift and left-clicking all the labels needed',\n",
    "    disabled=False\n",
    ")\n",
    "\n",
    "healthSelection = widgets.SelectMultiple(\n",
    "    options=healthLabels,\n",
    "    value=['dairy-free'],\n",
    "    #rows=10,\n",
    "    description='Health Label',\n",
    "    disabled=False\n",
    ")\n",
    "\n",
    "cuisineSelection = widgets.SelectMultiple(\n",
    "    options=cuisineType,\n",
    "    value=['American'],\n",
    "    #rows=10,\n",
    "    description='Cuisine Type',\n",
    "    disabled=False\n",
    ") \n",
    "\n",
    "display(dietSelection)\n",
    "display(healthSelection)\n",
    "display(cuisineSelection)"
   ]
  },
  {
   "cell_type": "code",
   "execution_count": 238,
   "id": "775feb2e",
   "metadata": {},
   "outputs": [
    {
     "name": "stdout",
     "output_type": "stream",
     "text": [
      "high-protein\n",
      "gluten-free\n",
      "Asian\n"
     ]
    }
   ],
   "source": [
    "dietSelection1 = dietSelection.value\n",
    "dietSelectionValue = ' '.join(dietSelection1)\n",
    "dietSelectionValue = dietSelectionValue.replace(\"'\", \"\")\n",
    "\n",
    "healthSelection1 = healthSelection.value \n",
    "healthSelectionValue = ' '.join(healthSelection1)\n",
    "healthSelectionValue = healthSelectionValue.replace(\"'\", \"\")\n",
    "    \n",
    "cuisineSelection1 = cuisineSelection.value \n",
    "cuisineSelectionValue = ' '.join(cuisineSelection1)\n",
    "cuisineSelectionValue = cuisineSelectionValue.replace(\"'\", \"\")\n",
    "\n",
    "print(dietSelectionValue)\n",
    "print(healthSelectionValue)\n",
    "print(cuisineSelectionValue)"
   ]
  },
  {
   "cell_type": "code",
   "execution_count": 40,
   "id": "9c88ab97",
   "metadata": {},
   "outputs": [
    {
     "name": "stdout",
     "output_type": "stream",
     "text": [
      "American\n"
     ]
    }
   ],
   "source": [
    "print(cuisineSelectionValue)"
   ]
  },
  {
   "cell_type": "code",
   "execution_count": 96,
   "id": "9210ed4e",
   "metadata": {},
   "outputs": [
    {
     "data": {
      "application/vnd.jupyter.widget-view+json": {
       "model_id": "8c7ba64643794f9eb8278456d2a05513",
       "version_major": 2,
       "version_minor": 0
      },
      "text/plain": [
       "Text(value='', description='Ingredient Restriction:', placeholder='Enter specific ingredient restriction')"
      ]
     },
     "metadata": {},
     "output_type": "display_data"
    }
   ],
   "source": [
    "# Create a text field for specific ingredient restriction\n",
    "ingredient_restriction_text = widgets.Text(\n",
    "    value='',\n",
    "    placeholder='Enter specific ingredient restriction',\n",
    "    description='Ingredient Restriction:',\n",
    "    disabled=False\n",
    ")\n",
    "\n",
    "display(ingredient_restriction_text)"
   ]
  },
  {
   "cell_type": "code",
   "execution_count": 106,
   "id": "c82175f3",
   "metadata": {},
   "outputs": [],
   "source": [
    "excluded = ingredient_restriction_text.value\n",
    "    #print(excluded)\n",
    "excluded_list = excluded.split(\",\")\n",
    "    #print(excluded_list)\n",
    "      \n",
    "if len(excluded_list) >= 1:\n",
    "    excluded = excluded_list[0]\n",
    "    excluded = excluded.strip()\n",
    "else: \n",
    "    excluded = ''\n",
    "if len(excluded_list) >= 2:\n",
    "    excluded1 = excluded_list[1]\n",
    "    excluded1 = excluded1.strip()\n",
    "else: \n",
    "    excluded1 = ''\n",
    "if len(excluded_list) >= 3:\n",
    "    excluded2 = excluded_list[2]\n",
    "    excluded2 = excluded2.strip()\n",
    "else: \n",
    "    excluded2 = ''\n",
    "    "
   ]
  },
  {
   "cell_type": "code",
   "execution_count": null,
   "id": "dcc0c1ad",
   "metadata": {},
   "outputs": [],
   "source": [
    "edamam_id = \"5f36f0d2\"\n",
    "edamam_key = \"36183fb32a466e53e994a472a4934d20\"\n",
    "\n",
    "e= PyEdamam(nutrition_appid=edamam_id, nutrition_appkey=edamam_key)\n",
    "\n",
    "base_url = \"https://api.edamam.com\"\n",
    "recipes_path = \"/api/recipes/v2\"\n",
    "qType = \"public\"\n",
    "query = \"chicken\""
   ]
  },
  {
   "cell_type": "code",
   "execution_count": 250,
   "id": "95d6b1f2",
   "metadata": {},
   "outputs": [],
   "source": [
    "def myFunction(dietSelectionValue, healthSelectionValue, cuisineSelectionValue):\n",
    "    base_url = \"https://api.edamam.com\"\n",
    "    recipes_path = \"/api/recipes/v2\"\n",
    "    edamam_id = \"5f36f0d2\"\n",
    "    edamam_key = \"36183fb32a466e53e994a472a4934d20\"\n",
    "    qType = \"public\"\n",
    "    url = f\"{base_url}{recipes_path}?type={qType}&app_id={edamam_id}&app_key={edamam_key}&diet={dietSelectionValue}&health={healthSelectionValue}&cuisineType={cuisineSelectionValue}\"\n",
    "    response = requests.get(url)\n",
    "    data = response.json()\n",
    "    hits = data['hits']\n",
    "    filtered_hits = [{'label': hit['recipe']['label'],\n",
    "                  'dietLabels': hit['recipe']['dietLabels'],\n",
    "                  'healthLabels': hit['recipe']['healthLabels'],\n",
    "                  'ingredients': [{'food': ingredient['food'], 'quantity': ingredient['quantity']} for ingredient in hit['recipe']['ingredients']],\n",
    "                  'calories': hit['recipe']['calories'],\n",
    "                  'cuisineType': hit['recipe']['cuisineType']\n",
    "                  } for hit in hits]\n",
    "    recipeDisplay = filtered_hits[1:5]\n",
    "    display(recipeDisplay)"
   ]
  },
  {
   "cell_type": "code",
   "execution_count": 256,
   "id": "98121775",
   "metadata": {
    "scrolled": true
   },
   "outputs": [
    {
     "data": {
      "text/plain": [
       "[{'label': 'Asian Chicken Salad',\n",
       "  'dietLabels': ['High-Protein', 'Low-Carb'],\n",
       "  'healthLabels': ['Dairy-Free',\n",
       "   'Gluten-Free',\n",
       "   'Wheat-Free',\n",
       "   'Egg-Free',\n",
       "   'Peanut-Free',\n",
       "   'Tree-Nut-Free',\n",
       "   'Soy-Free',\n",
       "   'Shellfish-Free',\n",
       "   'Pork-Free',\n",
       "   'Red-Meat-Free',\n",
       "   'Celery-Free',\n",
       "   'Mustard-Free',\n",
       "   'Sesame-Free',\n",
       "   'Lupine-Free',\n",
       "   'Alcohol-Free',\n",
       "   'No oil added',\n",
       "   'Kosher'],\n",
       "  'ingredients': [{'food': 'coriander', 'quantity': 1.0},\n",
       "   {'food': 'chilli', 'quantity': 0.5},\n",
       "   {'food': 'cucumber', 'quantity': 0.25},\n",
       "   {'food': 'salad leaves', 'quantity': 100.0},\n",
       "   {'food': 'caster sugar', 'quantity': 1.0},\n",
       "   {'food': 'red onion', 'quantity': 0.25},\n",
       "   {'food': 'fish sauce', 'quantity': 1.0},\n",
       "   {'food': 'boneless, skinless chicken breast', 'quantity': 1.0},\n",
       "   {'food': 'lime', 'quantity': 1.0}],\n",
       "  'calories': 438.7480200011762,\n",
       "  'cuisineType': ['asian']},\n",
       " {'label': 'Grilled Lobsters with Southeast Asian Dipping Sauce',\n",
       "  'dietLabels': ['High-Protein', 'Low-Fat', 'Low-Carb'],\n",
       "  'healthLabels': ['Pescatarian',\n",
       "   'Dairy-Free',\n",
       "   'Gluten-Free',\n",
       "   'Wheat-Free',\n",
       "   'Egg-Free',\n",
       "   'Peanut-Free',\n",
       "   'Tree-Nut-Free',\n",
       "   'Soy-Free',\n",
       "   'Pork-Free',\n",
       "   'Red-Meat-Free',\n",
       "   'Celery-Free',\n",
       "   'Mustard-Free',\n",
       "   'Sesame-Free',\n",
       "   'Lupine-Free',\n",
       "   'Alcohol-Free',\n",
       "   'No oil added'],\n",
       "  'ingredients': [{'food': 'lobsters', 'quantity': 7.5},\n",
       "   {'food': 'garlic', 'quantity': 3.0},\n",
       "   {'food': 'fish sauce', 'quantity': 0.3333333333333333},\n",
       "   {'food': 'lime juice', 'quantity': 0.3333333333333333},\n",
       "   {'food': 'brown sugar', 'quantity': 0.3333333333333333},\n",
       "   {'food': 'water', 'quantity': 3.0},\n",
       "   {'food': 'chili paste', 'quantity': 1.5},\n",
       "   {'food': 'cilantro leaves', 'quantity': 0.25},\n",
       "   {'food': 'mint leaves', 'quantity': 0.25},\n",
       "   {'food': 'lime', 'quantity': 0.0}],\n",
       "  'calories': 3053.068244902995,\n",
       "  'cuisineType': ['south east asian', 'asian']},\n",
       " {'label': 'Raw Bar (Oysters And Clams) With Asian Mignonette Recipe',\n",
       "  'dietLabels': ['High-Protein'],\n",
       "  'healthLabels': ['Sugar-Conscious',\n",
       "   'Pescatarian',\n",
       "   'Mediterranean',\n",
       "   'Dairy-Free',\n",
       "   'Gluten-Free',\n",
       "   'Wheat-Free',\n",
       "   'Egg-Free',\n",
       "   'Peanut-Free',\n",
       "   'Tree-Nut-Free',\n",
       "   'Soy-Free',\n",
       "   'Fish-Free',\n",
       "   'Pork-Free',\n",
       "   'Red-Meat-Free',\n",
       "   'Celery-Free',\n",
       "   'Mustard-Free',\n",
       "   'Sesame-Free',\n",
       "   'Lupine-Free',\n",
       "   'Alcohol-Free',\n",
       "   'No oil added'],\n",
       "  'ingredients': [{'food': 'oysters', 'quantity': 12.0},\n",
       "   {'food': 'clams in shell', 'quantity': 12.0},\n",
       "   {'food': 'cooked shrimp', 'quantity': 12.0},\n",
       "   {'food': 'water', 'quantity': 1.0},\n",
       "   {'food': 'rice vinegar', 'quantity': 2.0},\n",
       "   {'food': 'peppercorns', 'quantity': 0.25},\n",
       "   {'food': 'minced ginger', 'quantity': 1.0},\n",
       "   {'food': 'shallots', 'quantity': 1.0},\n",
       "   {'food': 'coriander seeds', 'quantity': 0.25}],\n",
       "  'calories': 742.4127500001624,\n",
       "  'cuisineType': ['japanese', 'asian']},\n",
       " {'label': 'Miso Soup With Shrimp And Tofu',\n",
       "  'dietLabels': ['High-Protein', 'Low-Carb'],\n",
       "  'healthLabels': ['Sugar-Conscious',\n",
       "   'Keto-Friendly',\n",
       "   'Pescatarian',\n",
       "   'Mediterranean',\n",
       "   'Dairy-Free',\n",
       "   'Gluten-Free',\n",
       "   'Wheat-Free',\n",
       "   'Egg-Free',\n",
       "   'Peanut-Free',\n",
       "   'Tree-Nut-Free',\n",
       "   'Pork-Free',\n",
       "   'Red-Meat-Free',\n",
       "   'Celery-Free',\n",
       "   'Mustard-Free',\n",
       "   'Lupine-Free',\n",
       "   'Mollusk-Free',\n",
       "   'Alcohol-Free',\n",
       "   'No oil added',\n",
       "   'Sulfite-Free'],\n",
       "  'ingredients': [{'food': 'water', 'quantity': 5.0},\n",
       "   {'food': 'miso', 'quantity': 0.25},\n",
       "   {'food': 'Salt', 'quantity': 0.0},\n",
       "   {'food': 'shelled edamame', 'quantity': 1.0},\n",
       "   {'food': 'spinach', 'quantity': 4.0},\n",
       "   {'food': 'shrimp', 'quantity': 0.75},\n",
       "   {'food': 'firm tofu', 'quantity': 7.0},\n",
       "   {'food': 'scallion', 'quantity': 1.0},\n",
       "   {'food': 'rice', 'quantity': 1.0},\n",
       "   {'food': 'sesame seeds', 'quantity': 1.0}],\n",
       "  'calories': 968.7597400381945,\n",
       "  'cuisineType': ['asian']}]"
      ]
     },
     "metadata": {},
     "output_type": "display_data"
    },
    {
     "ename": "AttributeError",
     "evalue": "'NoneType' object has no attribute 'dtype'",
     "output_type": "error",
     "traceback": [
      "\u001b[0;31m---------------------------------------------------------------------------\u001b[0m",
      "\u001b[0;31mAttributeError\u001b[0m                            Traceback (most recent call last)",
      "Input \u001b[0;32mIn [256]\u001b[0m, in \u001b[0;36m<cell line: 2>\u001b[0;34m()\u001b[0m\n\u001b[1;32m      1\u001b[0m a \u001b[38;5;241m=\u001b[39m myFunction(dietSelectionValue, healthSelectionValue, cuisineSelectionValue)\n\u001b[0;32m----> 2\u001b[0m \u001b[43ma\u001b[49m\u001b[38;5;241;43m.\u001b[39;49m\u001b[43mdtype\u001b[49m()\n",
      "\u001b[0;31mAttributeError\u001b[0m: 'NoneType' object has no attribute 'dtype'"
     ]
    }
   ],
   "source": [
    "myFunction(dietSelectionValue, healthSelectionValue, cuisineSelectionValue)"
   ]
  },
  {
   "cell_type": "code",
   "execution_count": 259,
   "id": "b93450c7",
   "metadata": {},
   "outputs": [
    {
     "data": {
      "application/javascript": [
       "data = display(data)\n",
       "myFunction(data);\n",
       "\n",
       "%%javascript\n",
       "document.getElementById(\"output\").innerHTML = JSON.stringify(data);\n"
      ],
      "text/plain": [
       "<IPython.core.display.Javascript object>"
      ]
     },
     "metadata": {},
     "output_type": "display_data"
    }
   ],
   "source": [
    "%%javascript\n",
    "data = display(data)\n",
    "myFunction(data);\n",
    "\n",
    "%%javascript\n",
    "document.getElementById(\"output\").innerHTML = JSON.stringify(data);"
   ]
  },
  {
   "cell_type": "code",
   "execution_count": 206,
   "id": "c707b10d",
   "metadata": {},
   "outputs": [
    {
     "data": {
      "text/html": [
       "<!DOCTYPE html>\n",
       "<html lang=\"en\">\n",
       "<head>\n",
       "    <meta charset=\"UTF-8\">\n",
       "    <meta http-equiv=\"X-UA-Compatible\" content=\"IE=edge\">\n",
       "    <meta name=\"viewport\" content=\"width=device-width, initial-scale=1.0\">\n",
       "   \n",
       "    <title>Document</title>\n",
       "\n",
       "        <!--font selection-->\n",
       "        <link rel=\"preconnect\" href=\"https://fonts.googleapis.com\">\n",
       "        <link rel=\"preconnect\" href=\"https://fonts.gstatic.com\" crossorigin>\n",
       "        <link href=\"https://fonts.googleapis.com/css2?family=Oleo+Script:wght@700&family=Vollkorn:wght@400;600;700&display=swap\" rel=\"stylesheet\">\n",
       "\n",
       "        <!--linking CSS to HTML-->\n",
       "        <link rel=\"stylesheet\" href=\"style.css\">\n",
       "</head>\n",
       "\n",
       "<body>\n",
       "    <header>\n",
       "        <div class=\"wrapper\">\n",
       "            <nav>\n",
       "                <div class=\"logo\">MediCure</div>\n",
       "               \n",
       "                <ul>\n",
       "                    <li>\n",
       "                        <a href=\"#\">About us</a>\n",
       "                    </li>\n",
       "                    <li>\n",
       "                        <a href=\"#\">Our mission</a>\n",
       "                    </li>\n",
       "                    <li>\n",
       "                        <a href=\"#\">The science</a>\n",
       "                    </li>\n",
       "                </ul>     \n",
       "                \n",
       "                <div class=\"search-container\">\n",
       "                    <form action=\"/search\">\n",
       "                      <input type=\"text\" placeholder=\"Search..\" name=\"search\">\n",
       "                      <button type=\"submit\"><i class=\"fa fa-search\"></i></button></form>\n",
       "                </div>\n",
       "\n",
       "                <div class=\"account-icon\">\n",
       "                    <img src=\"images/user-icon.svg\" alt=\"\">\n",
       "                </div>\n",
       "            </nav>\n",
       "\n",
       "<!--End of desktop navigation menu-->\n",
       "            \n",
       "            <div class=\"hero-section\">\n",
       "                \n",
       "                <div class=\"hero-picture\">\n",
       "                    <img src=\"images/hero-img.png\" alt=\"\">\n",
       "                </div>\n",
       "\n",
       "                <div class=\"hero-text\">\n",
       "                    <h1>Welcome!</h1>\n",
       "                    <p>Feeling under the weather? <br> MediCure is here to suggest <br> and nutritious meals <br> that will help you feel better <br> based on you preferences!</p>\n",
       "                    <a href=\"#\" class=\"btn\">Take survey</a>\n",
       "                </div> \n",
       "            </div>\n",
       "        </div>\n",
       "    </header>\n",
       "\n",
       "<!--End of header section-->\n",
       "\n",
       "    <div class=\"wrapper\">\n",
       "        <section class=\"preferences-section\">\n",
       "            <div class=\"preferences-text\">\n",
       "                <h1>Food thought out for you!</h1>\n",
       "                <img src=\"images/Line1.png\" alt=\"\">\n",
       "                <p>Using our online survey based on your preferences, <br> we deliver personalised suggestions that are tailored to you. </p>\n",
       "                <h4>Our custom recommendations are based on:</h4>\n",
       "            </div>\n",
       "            <div class=\"preferences-icons\">\n",
       "                <div class=\"Food preferences\">\n",
       "                    <img src=\"images/diet-icon.png\" alt=\"\">\n",
       "                    <h5>Food preferences</h5>\n",
       "                </div>\n",
       "                <div class=\"Vitamin defficiencies\">\n",
       "                    <img src=\"images/vitamin-icon.png\" alt=\"\">\n",
       "                    <h5>Vitamin defficiencies</h5>\n",
       "                </div>\n",
       "                <div class=\"Contingent allergies\">\n",
       "                    <img src=\"images/allergy-icon.png\" alt=\"\">\n",
       "                    <h5>Contingent allergies</h5>\n",
       "                </div>\n",
       "            </div>      \n",
       "        </section>\n",
       "    </div>\n",
       "\n",
       "<!--End of preferences section-->\n",
       "\n",
       "    <div class=\"wrapper\">\n",
       "        <section class=\"page-break\">\n",
       "            <div class=\"break-picture\">\n",
       "                <img src=\"images/survey-img.png\" alt=\"\">\n",
       "            </div> \n",
       "            <div class=\"break-button\">\n",
       "                <a href=\"#\" class=\"btn light\">Take survey</a>\n",
       "            </div> \n",
       "        </section>\n",
       "    </div>\n",
       "    \n",
       "    <!--EXPERIMENTAL CODE !!!!!!!!!!!!!!!!!!!!!!!!!!!!!!!!!!!!!!!!!!!!!!!!!!!!! -->\n",
       "    <div>\n",
       "        <label>Select diet preferences: </label>\n",
       "        <select id=\"dietSelectionValue\" multiple>\n",
       "            <option value=\"balanced\">balanced</option>\n",
       "            <option value=\"high-fiber\">high-fiber</option>\n",
       "            <option value=\"high-protein\">high-protein</option>\n",
       "            <option value=\"low-carb\">low-carb</option>\n",
       "            <option value=\"low-fat\">low-fat</option>\n",
       "            <option value=\"low-sodium\">low-sodium</option>\n",
       "        </select>\n",
       "    <div>\n",
       "        <div style=\"margin-top: 40px;\"></div>\n",
       "        <label>Select diet restrictions: </label>\n",
       "        <select id=\"healthSelectionValue\" multiple>\n",
       "            <option value=\"vegan\">vegan</option>\n",
       "            <option value=\"vegetarian\">vegetarian</option>\n",
       "            <option value=\"keto\">keto</option>\n",
       "            <option value=\"gluten-free\">gluten-free</option>\n",
       "            <option value=\"dairy-free\">dairy-free</option>\n",
       "            <option value=\"peanut-free\">peanut-free</option>\n",
       "        </select>\n",
       "        \n",
       "        <div style=\"margin-top: 40px;\"></div>\n",
       "\n",
       "        <script>\n",
       "            function myFunction(data) {\n",
       "              console.log(data);\n",
       "              document.getElementById(\"output\").innerHTML = JSON.stringify(data);\n",
       "            }\n",
       "          </script>\n",
       "          <button id=\"myButton\" onclick=\"myFunction(data)\">Submit</button>\n",
       "          <div id=\"output\"></div>\n",
       "          \n",
       "\n",
       "<!--End of page break section-->\n",
       "    \n",
       "    <div class=\"wrapper\">\n",
       "        <section class=\"how-to\">\n",
       "            <div class=\"how-to-title\">\n",
       "                <h1>How does it work?</h1>\n",
       "                <img src=\"images/Line2.png\" alt=\"\">\n",
       "            </div>\n",
       "            <div class=\"how-to-steps\">\n",
       "                <div class=\"Take the survey\">\n",
       "                    <img src=\"images/survey-icon.png\" alt=\"\">\n",
       "                    <h5>Take the survey</h5>\n",
       "                    <img src=\"images/Line3.png\">\n",
       "                    <p>It only takes a couple of <br> minutes and we’ll ask questions <br> about your dietary preferences <br> to create recommendations for <br> you.</p> \n",
       "                </div>\n",
       "                <div class=\"Get your results\">\n",
       "                    <img src=\"images/results-icon.png\" alt=\"\">\n",
       "                    <h5>Get your results</h5>\n",
       "                    <img src=\"images/Line4.png\">\n",
       "                    <p>You’ll get some suggested <br> vitamins that can help you <br> healing with food.</p> \n",
       "                </div>\n",
       "                <div class=\"Recommended recipes\">\n",
       "                    <img src=\"images/recipe-icon.png\" alt=\"\">\n",
       "                    <h5>Recommended recipes</h5>\n",
       "                    <img src=\"images/Line5.png\">\n",
       "                    <p>We’ll also suggest some healthy <br> recipes that respect your diet <br> and contain the vitamins you <br> need.</p>\n",
       "                </div>\n",
       "            </div>\n",
       "        </section>     \n",
       "    </div>\n",
       "\n",
       "<!--End of how-to section-->\n",
       "\n",
       "    <footer>\n",
       "        <div class=\"wrapper\">\n",
       "            \n",
       "            <div class=\"left-side\">\n",
       "                <div class=\"logo\">MediCure</div>\n",
       "            </div>\n",
       "           \n",
       "            <div class=\"right-side\">\n",
       "                <div class=\"links\">\n",
       "                    <ul>\n",
       "                        <li>\n",
       "                           <a href=\"#\">About us</a> \n",
       "                        </li>\n",
       "                        <li>\n",
       "                            <a href=\"#\">Our mission</a> \n",
       "                         </li>\n",
       "                         <li>\n",
       "                            <a href=\"#\">The science</a> \n",
       "                         </li>\n",
       "                         <li>\n",
       "                            <a href=\"#\">Terms and conditions</a> \n",
       "                         </li>\n",
       "                         <li>\n",
       "                            <a href=\"#\">Privacy policy</a> \n",
       "                         </li>\n",
       "                    </ul>\n",
       "                </div>\n",
       "                <div class=\"contact-form\">\n",
       "                    <h5>Contact us</h5>\n",
       "                    <ul>\n",
       "                        <li>\n",
       "                            <a href=\"#\">\n",
       "                            <img src=\"images/instagram_icon.svg\" alt=\"\">\n",
       "                            </a>\n",
       "                        </li>\n",
       "                        <li>\n",
       "                            <a href=\"#\">\n",
       "                            <img src=\"images/twitter-icon.svg\" alt=\"\">\n",
       "                            </a>\n",
       "                        </li>\n",
       "                        <li>\n",
       "                            <a href=\"#\">\n",
       "                            <img src=\"images/facebook-icon.svg\" alt=\"\">\n",
       "                            </a>\n",
       "                        </li>\n",
       "                    </ul>\n",
       "                </div>\n",
       "\n",
       "                <form action=\"#\">\n",
       "                    <input type=\"text\" placeholder=\"Email address\">\n",
       "                    <button class=\"submit-btn\">Subscribe</button>\n",
       "                </form>\n",
       "\n",
       "            </div>\n",
       "\n",
       "            <p class=\"copyright\">© 2023 MediCure All rights reserved</p>\n",
       "\n",
       "        </div>\n",
       "    </footer>\n",
       "\n",
       "    <!--linking JS to HTML-->\n",
       "    <script src=\"main.js\"></script>\n",
       "\n",
       "</body>\n",
       "</html>"
      ],
      "text/plain": [
       "<IPython.core.display.HTML object>"
      ]
     },
     "metadata": {},
     "output_type": "display_data"
    }
   ],
   "source": [
    "with open('index.html') as f:\n",
    "    html_str = f.read()\n",
    "    display(HTML(html_str))"
   ]
  },
  {
   "cell_type": "code",
   "execution_count": 114,
   "id": "9c1bff8e",
   "metadata": {},
   "outputs": [],
   "source": [
    "url = f\"{base_url}{recipes_path}?type={qType}&app_id={edamam_id}&app_key={edamam_key}&diet={dietSelectionValue}&health={healthSelectionValue}&cuisineType={cuisineSelectionValue}\"\n",
    "response = requests.get(url)\n",
    "data = response.json()"
   ]
  },
  {
   "cell_type": "code",
   "execution_count": 191,
   "id": "79d2e14f",
   "metadata": {
    "scrolled": true
   },
   "outputs": [],
   "source": [
    "hits = data['hits']"
   ]
  },
  {
   "cell_type": "code",
   "execution_count": 55,
   "id": "7ce5ceb9",
   "metadata": {},
   "outputs": [
    {
     "name": "stdout",
     "output_type": "stream",
     "text": [
      "Enter your height in inches: 70\n",
      "Enter your weight in pounds: 165\n",
      "Enter your age in years: 20\n"
     ]
    },
    {
     "data": {
      "application/vnd.jupyter.widget-view+json": {
       "model_id": "287dc679728c48cfb7593cbd2c2f7028",
       "version_major": 2,
       "version_minor": 0
      },
      "text/plain": [
       "Dropdown(description='Gender:', options=('M', 'F'), value='M')"
      ]
     },
     "metadata": {},
     "output_type": "display_data"
    },
    {
     "data": {
      "application/vnd.jupyter.widget-view+json": {
       "model_id": "b07ca10a80b04b5998f84c00fb5d28f4",
       "version_major": 2,
       "version_minor": 0
      },
      "text/plain": [
       "Dropdown(description='Activity Level:', options=('Sedentary', 'Light', 'Moderate', 'Active', 'Very Active'), v…"
      ]
     },
     "metadata": {},
     "output_type": "display_data"
    },
    {
     "data": {
      "application/vnd.jupyter.widget-view+json": {
       "model_id": "50d1cb6bf4e841d5938384de6f2eef29",
       "version_major": 2,
       "version_minor": 0
      },
      "text/plain": [
       "Dropdown(description='Body Type:', options=('Ectomorph', 'Mesomorph', 'Endomorph'), value='Ectomorph')"
      ]
     },
     "metadata": {},
     "output_type": "display_data"
    },
    {
     "data": {
      "application/vnd.jupyter.widget-view+json": {
       "model_id": "b7670ccf8af041cd8d4d5360e354a9b8",
       "version_major": 2,
       "version_minor": 0
      },
      "text/plain": [
       "Dropdown(description='Goal:', index=1, options=('Lose', 'Maintain', 'Gain'), value='Maintain')"
      ]
     },
     "metadata": {},
     "output_type": "display_data"
    }
   ],
   "source": [
    "#NUTRITION CONSTRAINTS \n",
    "\n",
    "# Create a dropdown menu for gender\n",
    "gender_dropdown = widgets.Dropdown(\n",
    "    options=['M', 'F'],\n",
    "    value='M',\n",
    "    description='Gender:',\n",
    "    disabled=False,\n",
    ")\n",
    "\n",
    "# Create a dropdown menu for activity level\n",
    "activity_level_dropdown = widgets.Dropdown(\n",
    "    options=['Sedentary', 'Light', 'Moderate', 'Active', 'Very Active'],\n",
    "    value='Sedentary',\n",
    "    description='Activity Level:',\n",
    "    disabled=False,\n",
    ")\n",
    "\n",
    "# Create a dropdown menu for body type\n",
    "body_type_dropdown = widgets.Dropdown(\n",
    "    options=['Ectomorph', 'Mesomorph', 'Endomorph'],\n",
    "    value='Ectomorph',\n",
    "    description='Body Type:',\n",
    "    disabled=False,\n",
    ")\n",
    "\n",
    "# Create a dropdown menu for goal\n",
    "goal_dropdown = widgets.Dropdown(\n",
    "    options=['Lose', 'Maintain', 'Gain'],\n",
    "    value='Maintain',\n",
    "    description='Goal:',\n",
    "    disabled=False,\n",
    ")\n",
    "\n",
    "height = float(input(\"Enter your height in inches: \"))\n",
    "weight = float(input(\"Enter your weight in pounds: \"))\n",
    "age = float(input(\"Enter your age in years: \"))\n",
    "\n",
    "\n",
    "# Display the dropdown menu and text fields\n",
    "display(gender_dropdown)\n",
    "display(activity_level_dropdown)\n",
    "display(body_type_dropdown)\n",
    "display(goal_dropdown)"
   ]
  },
  {
   "cell_type": "code",
   "execution_count": 58,
   "id": "f71cdc8c",
   "metadata": {},
   "outputs": [
    {
     "name": "stdout",
     "output_type": "stream",
     "text": [
      "Calories:  4599.168325000001\n",
      "Carbohydrates:  517.4064365625001\n",
      "Fats:  127.75467569444446\n",
      "Proteins:  344.93762437500004\n"
     ]
    }
   ],
   "source": [
    "gender = gender_dropdown.value\n",
    "age = int(age)\n",
    "activity_level = activity_level_dropdown.value\n",
    "body_type = body_type_dropdown.value\n",
    "goal = goal_dropdown.value\n",
    "\n",
    "if gender.upper() == \"M\":\n",
    "    # Harris-Benedict equation for men\n",
    "    bmr = 88.362 + (13.397 * weight) + (4.799 * height) - (5.677 * age)\n",
    "elif gender.upper() == \"F\":\n",
    "    # Harris-Benedict equation for women\n",
    "    bmr = 447.593 + (9.247 * weight) + (3.098 * height) - (4.330 * age)\n",
    "else:\n",
    "    print(\"Invalid input for gender\")\n",
    "\n",
    "# Use the BMR to calculate macro needs\n",
    "\n",
    "if activity_level == \"Sedentary\":\n",
    "    bmr *= 1.2\n",
    "elif activity_level == \"Light\":\n",
    "    bmr *= 1.375\n",
    "elif activity_level == \"Moderate\":\n",
    "    bmr *= 1.55\n",
    "elif activity_level == \"Active\":\n",
    "    bmr *= 1.725\n",
    "else:\n",
    "    print(\"Invalid input for activity level\")\n",
    "\n",
    "# Adjust the calories based on the user's goal\n",
    "if goal == \"Lose\":\n",
    "    bmr -= 250\n",
    "elif goal == \"Gain\":\n",
    "    bmr += 250\n",
    "else:\n",
    "    pass\n",
    "\n",
    "# Calculate macro needs based on the adjusted calories\n",
    "carbohydrates = bmr * 0.45 / 4\n",
    "fats = bmr * 0.25 / 9\n",
    "proteins = bmr * 0.3 / 4\n",
    "\n",
    "# Print the macro and calorie needs\n",
    "print(\"Calories: \",bmr)\n",
    "print(\"Carbohydrates: \",carbohydrates)\n",
    "print(\"Fats: \",fats)\n",
    "print(\"Proteins: \",proteins)\n"
   ]
  }
 ],
 "metadata": {
  "kernelspec": {
   "display_name": "Python 3 (ipykernel)",
   "language": "python",
   "name": "python3"
  },
  "language_info": {
   "codemirror_mode": {
    "name": "ipython",
    "version": 3
   },
   "file_extension": ".py",
   "mimetype": "text/x-python",
   "name": "python",
   "nbconvert_exporter": "python",
   "pygments_lexer": "ipython3",
   "version": "3.9.12"
  }
 },
 "nbformat": 4,
 "nbformat_minor": 5
}
